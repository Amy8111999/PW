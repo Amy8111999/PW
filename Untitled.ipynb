{
 "cells": [
  {
   "cell_type": "markdown",
   "id": "69d558d2-61d6-4daa-9508-0599b1a02851",
   "metadata": {},
   "source": [
    "1What is NumPy, and why is it widely used in Python?\n",
    "-> Numpy also known as numerical python is a library for numerical computing. it provide help in multi dimensional arrays and mathematical operation. it is widely used because of fast efficient and accurate. "
   ]
  },
  {
   "cell_type": "code",
   "execution_count": null,
   "id": "7383ba9c-0843-4b03-b92f-ad1c619650b3",
   "metadata": {},
   "outputs": [],
   "source": [
    "2. How does broadcasting work in NumPy?\n",
    "-> Broadcasting allows numpy to perform arthematic operation on array of different shapes by automatically expanding the smaller array to match the shape of the larger one without copying data."
   ]
  },
  {
   "cell_type": "code",
   "execution_count": null,
   "id": "d2f1ee47-b32d-49e4-85c6-c47787981e71",
   "metadata": {},
   "outputs": [],
   "source": [
    "3. What is a Pandas DataFrame?\n",
    "-> A DataFrame is a two-dimensional, tabular data structure in Pandas with labeled rows and columns. It is similar to an Excel sheet or SQL table.\n"
   ]
  },
  {
   "cell_type": "code",
   "execution_count": null,
   "id": "b4149fb2-ab93-4184-ba68-e6ec0479afab",
   "metadata": {},
   "outputs": [],
   "source": [
    "4. Explain the use of the groupby() method in Pandas.\n",
    "->groupby() is used to group data based on one or more columns and then apply aggregate functions like sum, mean, or count to analyze subsets of data.    groupby() is used to group data based on one or more columns and then apply aggregate functions like sum, mean, or count to analyze subsets of data."
   ]
  },
  {
   "cell_type": "code",
   "execution_count": null,
   "id": "0e2a37c6-bde6-4f96-89ca-b72bededc5c3",
   "metadata": {},
   "outputs": [],
   "source": [
    "5. Why is Seaborn preferred for statistical visualizations?\n",
    "-> Seaborn is built on top of Matplotlib and provides high-level functions for statistical plots with better aesthetics, built-in themes, and support for handling Pandas DataFrames.\n"
   ]
  },
  {
   "cell_type": "code",
   "execution_count": null,
   "id": "446133ad-a4c8-4e3c-b2c9-cdeb91d36d90",
   "metadata": {},
   "outputs": [],
   "source": [
    "6. What are the differences between NumPy arrays and Python lists?\n",
    "-> Numpy array are homogenous while pandas lists are hetrogenous.\n",
    "    Due to its homogenous data type numpy is faster and momory efficient\n",
    "Array supports vectorized operations and list requires loops "
   ]
  },
  {
   "cell_type": "code",
   "execution_count": null,
   "id": "d8d66f27-0abe-4839-8740-5b011230aa79",
   "metadata": {},
   "outputs": [],
   "source": [
    "7. What is a heatmap, and when should it be used?\n",
    "-> A heat map is graphical representation of data in which values are full of clours.  It is useful for visualizing correlation matrices, frequency tables, and patterns in large data."
   ]
  },
  {
   "cell_type": "code",
   "execution_count": null,
   "id": "5d069a6a-0ab0-47e8-8dc8-a5e25c2e761f",
   "metadata": {},
   "outputs": [],
   "source": [
    "8.What does the term “vectorized operation” mean in NumPy?\n",
    "-> Vectorized operation in numpy apply mathematical and logical operation to entire array at once. It is more faster and memory efficient than loops."
   ]
  },
  {
   "cell_type": "code",
   "execution_count": null,
   "id": "730d398c-af45-4c65-8520-d72b455ab2b0",
   "metadata": {},
   "outputs": [],
   "source": [
    "9. How does Matplotlib differ from Plotly?\n",
    "-> Matplotlib plots library for 2D visalization. While plotly is more entractive library because it supports 2D 3D plots. "
   ]
  },
  {
   "cell_type": "code",
   "execution_count": null,
   "id": "fdfa249c-6ce0-49ad-959c-236da7d41b98",
   "metadata": {},
   "outputs": [],
   "source": [
    "10. What is the significance of hierarchical indexing in Pandas?\n",
    "-> Heirarical Indexing or also known as multi index allows multiple levels of indexing, thats why it is useful for working with heigher dimensional data in 2D data frame."
   ]
  },
  {
   "cell_type": "code",
   "execution_count": null,
   "id": "1c8e7092-877b-4233-bbb1-f143e965e29c",
   "metadata": {},
   "outputs": [],
   "source": [
    "11. 11. What is the role of Seaborn’s pairplot() function?\n",
    "-> Pair plot creates pairwise scatter plots for numericsal colum along with histogarm to show relation b/w 2 variables.\n"
   ]
  },
  {
   "cell_type": "code",
   "execution_count": null,
   "id": "7de2e9f5-75ba-40bf-b93c-7d51a4291f28",
   "metadata": {},
   "outputs": [],
   "source": [
    "12. What is the purpose of the describe() function in Pandas?\n",
    "-> this function genrate summay of numerical column."
   ]
  },
  {
   "cell_type": "code",
   "execution_count": null,
   "id": "762d0956-7bb2-4235-ae8b-9fb8867b656e",
   "metadata": {},
   "outputs": [],
   "source": [
    "13. Why is handling missing data important in Pandas?\n",
    "-> Missing data may lead to inaccurate and errors while analysis. Handling ensures reliable results by either filling, replacing, or dropping missing values."
   ]
  },
  {
   "cell_type": "code",
   "execution_count": null,
   "id": "f8a16b1d-5ba4-4c0d-ae5b-ef23b37a4df2",
   "metadata": {},
   "outputs": [],
   "source": [
    "14. What are the benefits of using Plotly for data visualization?\n",
    "-> Plotly is interactive web-based visualizations, supports zooming, tooltips, 3D plots, and dashboards.\n"
   ]
  },
  {
   "cell_type": "code",
   "execution_count": null,
   "id": "041e3714-19d8-4f25-8776-3847488e24e4",
   "metadata": {},
   "outputs": [],
   "source": [
    "15. How does NumPy handle multidimensional arrays?\n",
    "-> NumPy uses the n-dimensional array object that can store and manipulate arrays of any dimension efficiently with indexing, and broadcasting."
   ]
  },
  {
   "cell_type": "code",
   "execution_count": null,
   "id": "117e6f4d-f962-4ba5-ac17-03293d09b216",
   "metadata": {},
   "outputs": [],
   "source": [
    "16. What is the role of Bokeh in data visualization?\n",
    "-> Bokeh is a python libarary which is interactive and browser based visualization suitable for dash board."
   ]
  },
  {
   "cell_type": "code",
   "execution_count": null,
   "id": "f16fce01-e900-4fbc-8f07-6bfc76a8045a",
   "metadata": {},
   "outputs": [],
   "source": [
    "17. 17. Explain the difference between apply() and map() in Pandas.\n",
    "-> Map applies elelment wise function to series and apply applies a function along n axis of a DataFrame "
   ]
  },
  {
   "cell_type": "code",
   "execution_count": null,
   "id": "dec26286-4a43-4eab-a6e8-46e801a4b831",
   "metadata": {},
   "outputs": [],
   "source": [
    "18. What are some advanced features of NumPy?\n",
    "->These are some advance features of numpy:-\n",
    "Linear algebra functions\n",
    "Fourier transforms\n",
    "Random number generation\n",
    "Memory-mapped arrays\n",
    "Broadcasting and vectorization\n"
   ]
  },
  {
   "cell_type": "code",
   "execution_count": null,
   "id": "fae38db4-8a53-48b8-9e7f-5a6f0b8ae7e5",
   "metadata": {},
   "outputs": [],
   "source": [
    "19.How does Pandas handle time series analysis?\n",
    "-> Pandas has DatetimeIndex, to_datetime, resampling, rolling windows, and frequency conversions for working with time-stamped data.\n"
   ]
  },
  {
   "cell_type": "markdown",
   "id": "0805f24c-25f9-47e5-bc48-b657c2270f44",
   "metadata": {},
   "source": [
    "20. What is the significance of pivot table in Pandas?\n",
    "-> Pivot tables summarize and reshape data by grouping and aggregating values, similar to Excel pivot tables."
   ]
  },
  {
   "cell_type": "markdown",
   "id": "eaa6fd91-f0ea-437d-a2ff-4118b4b8b693",
   "metadata": {},
   "source": [
    "21. Why is NumPy’s array slicing faster than Python’s list slicing?\n",
    "-> NumPy arrays are stored in contiguous memory blocks and implemented in C, making slicing operations much faster than Python lists.\n"
   ]
  },
  {
   "cell_type": "code",
   "execution_count": null,
   "id": "3a0e7151-f44f-44c7-a94a-fba7ae259966",
   "metadata": {},
   "outputs": [],
   "source": [
    "22. What are some common use cases for Seaborn?\n"
   ]
  },
  {
   "cell_type": "code",
   "execution_count": 46,
   "id": "723011fc-731d-4991-b2a4-78435c1ce858",
   "metadata": {},
   "outputs": [
    {
     "ename": "NameError",
     "evalue": "name 'row' is not defined",
     "output_type": "error",
     "traceback": [
      "\u001b[31m---------------------------------------------------------------------------\u001b[39m",
      "\u001b[31mNameError\u001b[39m                                 Traceback (most recent call last)",
      "\u001b[36mCell\u001b[39m\u001b[36m \u001b[39m\u001b[32mIn[46]\u001b[39m\u001b[32m, line 5\u001b[39m\n\u001b[32m      3\u001b[39m array=np.array([[\u001b[32m1\u001b[39m,\u001b[32m2\u001b[39m,\u001b[32m3\u001b[39m],[\u001b[32m4\u001b[39m,\u001b[32m5\u001b[39m,\u001b[32m6\u001b[39m],[\u001b[32m7\u001b[39m,\u001b[32m8\u001b[39m,\u001b[32m9\u001b[39m]])\n\u001b[32m      4\u001b[39m row_sum = array.sum(axis=\u001b[32m1\u001b[39m)\n\u001b[32m----> \u001b[39m\u001b[32m5\u001b[39m \u001b[38;5;28mprint\u001b[39m(\u001b[43mrow\u001b[49m-\u001b[38;5;28msum\u001b[39m)\n",
      "\u001b[31mNameError\u001b[39m: name 'row' is not defined"
     ]
    }
   ],
   "source": [
    "#2D NumPy array sum of each row\n",
    "import numpy as np\n",
    "array=np.array([[1,2,3],[4,5,6],[7,8,9]])\n",
    "row_sum = array.sum(axis=1)\n",
    "print(row-sum)"
   ]
  },
  {
   "cell_type": "code",
   "execution_count": 49,
   "id": "f23af575-73ab-4873-9984-21b11b85a93e",
   "metadata": {},
   "outputs": [
    {
     "ename": "SyntaxError",
     "evalue": "unterminated string literal (detected at line 3) (4080284351.py, line 3)",
     "output_type": "error",
     "traceback": [
      "  \u001b[36mCell\u001b[39m\u001b[36m \u001b[39m\u001b[32mIn[49]\u001b[39m\u001b[32m, line 3\u001b[39m\n\u001b[31m    \u001b[39m\u001b[31mdf = pd.DataFrame({A\":[1,2,3,4],\"B\":[5,6,7,8]})\u001b[39m\n                                     ^\n\u001b[31mSyntaxError\u001b[39m\u001b[31m:\u001b[39m unterminated string literal (detected at line 3)\n"
     ]
    }
   ],
   "source": [
    "#Find mean of a column in DataFrame\n",
    "import pandas as pd\n",
    "df = pd.DataFrame({A\":[1,2,3,4],\"B\":[5,6,7,8]})\n",
    "print(df[\"B\"].mean())"
   ]
  },
  {
   "cell_type": "code",
   "execution_count": null,
   "id": "ea72a01b-244c-4c1a-a50c-7cdab41f3426",
   "metadata": {},
   "outputs": [],
   "source": [
    "3. A Create a scatter plot using Matplotlib\n",
    "import matplotlib.pyplot as plt\n",
    "x = [1,2,3,4,5]\n",
    "y = [5,7,8,7,6]\n",
    "plt.scatter(x,y)\n",
    "plt.show()"
   ]
  },
  {
   "cell_type": "code",
   "execution_count": 51,
   "id": "9cd73e71-3f43-4109-a6e6-9f4df58f719f",
   "metadata": {},
   "outputs": [
    {
     "ename": "ModuleNotFoundError",
     "evalue": "No module named 'seaborn'",
     "output_type": "error",
     "traceback": [
      "\u001b[31m---------------------------------------------------------------------------\u001b[39m",
      "\u001b[31mModuleNotFoundError\u001b[39m                       Traceback (most recent call last)",
      "\u001b[36mCell\u001b[39m\u001b[36m \u001b[39m\u001b[32mIn[51]\u001b[39m\u001b[32m, line 2\u001b[39m\n\u001b[32m      1\u001b[39m \u001b[38;5;66;03m#4. How do you calculate the correlation matrix using Seaborn and visualize it with a heatmap\u001b[39;00m\n\u001b[32m----> \u001b[39m\u001b[32m2\u001b[39m \u001b[38;5;28;01mimport\u001b[39;00m\u001b[38;5;250m \u001b[39m\u001b[34;01mseaborn\u001b[39;00m\u001b[38;5;250m \u001b[39m\u001b[38;5;28;01mas\u001b[39;00m\u001b[38;5;250m \u001b[39m\u001b[34;01msns\u001b[39;00m\n\u001b[32m      3\u001b[39m corr = df.corr()\n\u001b[32m      4\u001b[39m sns.heatmap(corr, annot=\u001b[38;5;28;01mTrue\u001b[39;00m, cmap=\u001b[33m\"\u001b[39m\u001b[33mcoolwarm\u001b[39m\u001b[33m\"\u001b[39m)\n",
      "\u001b[31mModuleNotFoundError\u001b[39m: No module named 'seaborn'"
     ]
    }
   ],
   "source": [
    "#4. How do you calculate the correlation matrix using Seaborn and visualize it with a heatmap\n",
    "import seaborn as sns\n",
    "corr = df.corr()\n",
    "sns.heatmap(corr, annot=True, cmap=\"coolwarm\")"
   ]
  },
  {
   "cell_type": "code",
   "execution_count": null,
   "id": "1643de34-2a71-4337-bf12-4dbd43445af0",
   "metadata": {},
   "outputs": [],
   "source": [
    "#5. A Generate a bar plot using Plotly\n",
    "import plotly.express as px\n",
    "df = pd.DataFrame({\"Fruit\":[\"Apple\",\"Banana\",\"Mango\"],\"Count\":[10,20,15]})\n",
    "fig = px.bar(df, x=\"Fruit\", y=\"Count\")\n",
    "fig.show()"
   ]
  },
  {
   "cell_type": "markdown",
   "id": "c71491a3-743e-4ca6-b5e5-b5774a1ffe58",
   "metadata": {},
   "source": [
    "#6.  Create a DataFrame and add a new column based on an existing column\n",
    "df[\"C\"] = df[\"A\"] + df[\"B\"]\n",
    "print(d)"
   ]
  },
  {
   "cell_type": "code",
   "execution_count": null,
   "id": "b8b063b3-984e-48d5-a507-57ba10c89cbc",
   "metadata": {},
   "outputs": [],
   "source": [
    "#7. Write a program to perform element-wise multiplication of two NumPy arrays\n",
    "arr1 = np.array([1,2,3])\n",
    "arr2 = np.array([4,5,6])\n",
    "print(arr1 * arr2)"
   ]
  },
  {
   "cell_type": "code",
   "execution_count": null,
   "id": "1450b1e9-8c45-4763-8358-ea9e8726a6ac",
   "metadata": {},
   "outputs": [],
   "source": [
    "#8. Create a line plot with multiple lines using MatplotliB\\\n",
    "plt.plot([1,2,3],[1,4,9], label=\"Line1\")\n",
    "plt.plot([1,2,3],[2,5,10], label=\"Line2\")\n",
    "plt.legend()\n",
    "plt.show()"
   ]
  },
  {
   "cell_type": "code",
   "execution_count": null,
   "id": "d8db0be9-a8c1-43d5-a104-a0974bad5b5f",
   "metadata": {},
   "outputs": [],
   "source": []
  }
 ],
 "metadata": {
  "kernelspec": {
   "display_name": "Python 3 (ipykernel)",
   "language": "python",
   "name": "python3"
  },
  "language_info": {
   "codemirror_mode": {
    "name": "ipython",
    "version": 3
   },
   "file_extension": ".py",
   "mimetype": "text/x-python",
   "name": "python",
   "nbconvert_exporter": "python",
   "pygments_lexer": "ipython3",
   "version": "3.13.7"
  }
 },
 "nbformat": 4,
 "nbformat_minor": 5
}
